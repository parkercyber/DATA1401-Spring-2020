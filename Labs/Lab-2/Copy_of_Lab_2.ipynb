{
  "nbformat": 4,
  "nbformat_minor": 0,
  "metadata": {
    "kernelspec": {
      "name": "python3",
      "display_name": "Python 3"
    },
    "colab": {
      "name": "Copy of Lab-2.ipynb",
      "provenance": [],
      "collapsed_sections": []
    }
  },
  "cells": [
    {
      "cell_type": "markdown",
      "metadata": {
        "id": "uk7yc0nadBGa",
        "colab_type": "text"
      },
      "source": [
        "# Lab 2\n",
        "\n",
        "[![Open In Colab](https://colab.research.google.com/assets/colab-badge.svg)](https://colab.research.google.com/github//afarbin/DATA1401-Spring-2020/blob/master/Labs/Lab-2/Lab-2.ipynb)\n",
        "\n",
        "## Submitting lab solutions\n",
        "\n",
        "At the end of the previous lab, you should have set up a \"Solutions\" directory in your Google Drive, with a fork of the class git repository that pull from Dr. Farbin's verison and pushes to your own fork. \n",
        "\n",
        "Unfortunately due to a typo in the previous lab, you probably forked the 2019 version of the gitlab repository for this course. Unless you noticed and corrected the error, you'll have to fork again.\n",
        "\n",
        "In addition, due to some problems with the setup in Google Colab, we will be submitting our solutions to your fork using the web interface. Instructions on how to use the command-line are in this notebook, but we suggest you do not follow them unless you are working in a jupyter notebook and not Google Colab."
      ]
    },
    {
      "cell_type": "markdown",
      "metadata": {
        "id": "OMNaOnRksNK3",
        "colab_type": "text"
      },
      "source": [
        "You may also choose to delete the fork from your GitHub account. "
      ]
    },
    {
      "cell_type": "markdown",
      "metadata": {
        "colab_type": "text",
        "id": "J_R64sQDqv0A"
      },
      "source": [
        "## Repeating last steps of Lab 1\n",
        "\n",
        "### Create your own fork\n",
        "We will create a new fork where you can keep track and submit your work, following [these instructions](https://help.github.com/articles/fork-a-repo/).\n",
        "\n",
        "Goto to github.com and log in.\n",
        "\n",
        "Next, create a fork of the [2020 class repository](https://github.com/afarbin/DATA1401-Spring-2020). Click the link and press the \"Fork\" button on the top right. Select your repository as where you want to place the fork.\n"
      ]
    },
    {
      "cell_type": "markdown",
      "metadata": {
        "colab_type": "text",
        "id": "edTvE6rOqv0C"
      },
      "source": [
        "### Make a local clone (Advanced)\n",
        "\n",
        "Before we get started, please mount your Google Drive using by clicking the file icon on the left, then clicking \"Mount Drive\", and following the instructions as you did in the previous lab.\n",
        "\n",
        "If you did complete Lab 1 and therefore created a 2019 fork and a local clone in you Google Drive, delete the local clone:\n",
        "\n"
      ]
    },
    {
      "cell_type": "code",
      "metadata": {
        "id": "2u6B-rfNr1wN",
        "colab_type": "code",
        "colab": {}
      },
      "source": [
        "!rm -rf drive/My\\ Drive/Data-1401-Repo"
      ],
      "execution_count": 0,
      "outputs": []
    },
    {
      "cell_type": "markdown",
      "metadata": {
        "id": "BDVI5nu8-2RH",
        "colab_type": "text"
      },
      "source": [
        "Now we will check out your fork in your Google Drive / Colab. If you will be doing everything on your own computer instead of Google Colab/Drive, you are welcome to install Git on your computer and perform the following steps (appropriately modified) on your computer instead.\n",
        "\n",
        "Start by listing the contents of your current directory."
      ]
    },
    {
      "cell_type": "code",
      "metadata": {
        "colab_type": "code",
        "id": "e5tXg0f8qv0D",
        "outputId": "cd0f7f90-9e20-4ee4-88a7-b4ab6c72650a",
        "colab": {
          "base_uri": "https://localhost:8080/",
          "height": 68
        }
      },
      "source": [
        "%cd /content/drive/My\\ Drive\n",
        "!ls"
      ],
      "execution_count": 0,
      "outputs": [
        {
          "output_type": "stream",
          "text": [
            "[Errno 2] No such file or directory: '/content/drive/My Drive'\n",
            "/content\n",
            "sample_data\n"
          ],
          "name": "stdout"
        }
      ]
    },
    {
      "cell_type": "markdown",
      "metadata": {
        "colab_type": "text",
        "id": "WYsyYcg1qv0J"
      },
      "source": [
        "Make a new directory:"
      ]
    },
    {
      "cell_type": "code",
      "metadata": {
        "colab_type": "code",
        "id": "Z7noY1hMqv0L",
        "outputId": "740cdf9e-8048-4aa5-9bb4-42dbdded0a39",
        "colab": {
          "base_uri": "https://localhost:8080/",
          "height": 34
        }
      },
      "source": [
        "!mkdir Data-1401-Repo\n",
        "%cd Data-1401-Repo"
      ],
      "execution_count": 0,
      "outputs": [
        {
          "output_type": "stream",
          "text": [
            "/content/Data-1401-Repo\n"
          ],
          "name": "stdout"
        }
      ]
    },
    {
      "cell_type": "markdown",
      "metadata": {
        "colab_type": "text",
        "id": "fwsBdTnYqv0Q"
      },
      "source": [
        "From the github page for your fork, press the green \"Clone or download\" button and copy the URL.\n",
        "\n",
        "Goto to your notebook and use the following command to clone the repository, pasting the URL you just copied:\n"
      ]
    },
    {
      "cell_type": "code",
      "metadata": {
        "colab_type": "code",
        "id": "8w42MH6Jqv0S",
        "colab": {}
      },
      "source": [
        "# What you past here should look like:\n",
        "#!git clone https://github.com/<github username/DATA1401-Spring-2020.git\n"
      ],
      "execution_count": 0,
      "outputs": []
    },
    {
      "cell_type": "markdown",
      "metadata": {
        "colab_type": "text",
        "id": "cOAuqTVUqv0V"
      },
      "source": [
        "Go into the directory:"
      ]
    },
    {
      "cell_type": "code",
      "metadata": {
        "colab_type": "code",
        "id": "b1Ew4tEZqv0X",
        "outputId": "1398fa36-9c56-4bf9-be54-32d764730ed4",
        "colab": {
          "base_uri": "https://localhost:8080/",
          "height": 51
        }
      },
      "source": [
        "%cd DATA1401-Spring-2020\n",
        "!ls"
      ],
      "execution_count": 0,
      "outputs": [
        {
          "output_type": "stream",
          "text": [
            "[Errno 2] No such file or directory: 'DATA1401-Spring-2020'\n",
            "/content/Data-1401-Repo\n"
          ],
          "name": "stdout"
        }
      ]
    },
    {
      "cell_type": "markdown",
      "metadata": {
        "colab_type": "text",
        "id": "IrhWToc-qv0a"
      },
      "source": [
        "We will now connect your fork to the original so you can pull changes from there. \n",
        "\n",
        "Check remote status:"
      ]
    },
    {
      "cell_type": "code",
      "metadata": {
        "colab_type": "code",
        "id": "JxtMYR-9qv0c",
        "outputId": "54998563-7f04-405e-c790-caf6c515e56f",
        "colab": {
          "base_uri": "https://localhost:8080/",
          "height": 34
        }
      },
      "source": [
        "!git remote -v"
      ],
      "execution_count": 0,
      "outputs": [
        {
          "output_type": "stream",
          "text": [
            "fatal: not a git repository (or any of the parent directories): .git\n"
          ],
          "name": "stdout"
        }
      ]
    },
    {
      "cell_type": "markdown",
      "metadata": {
        "colab_type": "text",
        "id": "9ud3X0fBqv0f"
      },
      "source": [
        "Now use the original class URL to set your upstream:"
      ]
    },
    {
      "cell_type": "code",
      "metadata": {
        "colab_type": "code",
        "id": "pgJlKxBqqv0h",
        "colab": {}
      },
      "source": [
        "!git remote add upstream https://github.com/afarbin/DATA1401-Spring-2020.git"
      ],
      "execution_count": 0,
      "outputs": []
    },
    {
      "cell_type": "code",
      "metadata": {
        "colab_type": "code",
        "id": "id2yUEt9qv0k",
        "colab": {}
      },
      "source": [
        "!git remote -v"
      ],
      "execution_count": 0,
      "outputs": []
    },
    {
      "cell_type": "markdown",
      "metadata": {
        "colab_type": "text",
        "id": "sAkgeJ6Iqv0n"
      },
      "source": [
        "From now on, you can get the newest version of class material by using:"
      ]
    },
    {
      "cell_type": "code",
      "metadata": {
        "colab_type": "code",
        "id": "AGDsfTFLqv0o",
        "colab": {}
      },
      "source": [
        "!git pull"
      ],
      "execution_count": 0,
      "outputs": []
    },
    {
      "cell_type": "markdown",
      "metadata": {
        "colab_type": "text",
        "id": "u9RAhs5b4vXY"
      },
      "source": [
        "You should be setup now.\n",
        "\n",
        "## Make your for Private\n",
        "\n",
        "As a final step, go back to your fork in GitHub and click the \"gear\" icon to change the settings. Select \"Options\" on the left and scroll all the way down. Then click on \"Make Private\" to make your repository private. \n",
        "\n",
        "Next select the collaborators on the left and add your Professor and TA as collaborators. "
      ]
    },
    {
      "cell_type": "markdown",
      "metadata": {
        "id": "i1q1wv0IqqBL",
        "colab_type": "text"
      },
      "source": [
        "## Working on and Submitting Labs\n",
        "\n",
        "As mentioned in class, you are welcome to not use Google Colab and instead install and use your own instance of Jupyter to work on the labs.\n",
        "\n",
        "No matter where you do you work, you will submit your work into your fork of the class repository in GitHub. \n",
        "\n",
        "### Updating your fork\n",
        "\n",
        "The class repository will be updated several times a week. But your fork will not be updated, unless you do so explicitly. There are two ways for you to update your fork:\n",
        "\n",
        "1. Use GitHub's web interface to make a pull request from the course base to your fork.\n",
        "  * Goto your fork in GitHub.\n",
        "  * Press \"New Pull Request\"\n",
        "  * You should see option to select base/head repository that allows you to select \"afarbin/Data1401-Spring-2020\" as the base. If not press \"compare accross forks\".\n",
        "  * Make sure you select your fork as the head.\n",
        "  * Press \"Create a pull request\".\n",
        "  * Press \"Merge pull request\".\n",
        "  * Press \"Confirm pull\".\n",
        "\n",
        "2. Go to your clone of your fork in Google Drive (or local on your computer) that setup above and do a `git pull`. (Advanced)\n",
        "\n",
        "### Working on your labs\n",
        "\n",
        "If you are working in Google Colab, you should immediately save a copy of you labs into your Google Drive as soon as you start working, and save frequently so you don't loose your work. These copies of the labs will appear in drive/My Drive/Colab Notebooks. \n",
        "\n",
        "### Submitting your labs\n",
        "\n",
        "Once you are done with a lab and are ready to submit, you have several options:\n",
        "\n",
        "1. You can download the lab to your local computer and them commit to your GitHub fork via GitHub's web interface. \n",
        "\n",
        "  * Download by selecting \"Download .ipynb\" from the file menu.\n",
        "  * Appropriately rename the downloaded file (for example Lab-1-Solutions.ipynb).\n",
        "  * On github, navigate to the directory for the specific lab.\n",
        "  * Click on upload and upload your solutions.\n",
        "\n",
        "2. (Advanced) You can copy the lab into your fork and commit/push using the command-line. Here's how:\n",
        "\n",
        "  * Using \"cd\" command navigate to the clone of your fork in Google Drive (or local) and do  `git remote -v` to verify that things are correctly setup.\n",
        "\n",
        "  * If you are working on Google Colab, your copy of lab with your solutions is stored in contents/drive/My Drive/Colab Notebooks. Locate the your lab 1 notebook and copy and rename it into the same directory in your fork. \n",
        "\n",
        "For example: (Note we are using the full paths here just to make sure everything works... but if you are already in the fork directory, you don't need the full path everywhere)."
      ]
    },
    {
      "cell_type": "code",
      "metadata": {
        "id": "CtPQXoQMdBGg",
        "colab_type": "code",
        "colab": {}
      },
      "source": [
        "!cp /content/drive/My\\ Drive/Colab\\ Notebooks/Copy\\ of\\ Lab-2.ipynb /content/drive/My\\ Drive/Data-1401-Repo/DATA1401-Spring-2020/Labs/Lab-2/Lab-2-Solution.ipynb"
      ],
      "execution_count": 0,
      "outputs": []
    },
    {
      "cell_type": "markdown",
      "metadata": {
        "id": "b04FrL7sdBGr",
        "colab_type": "text"
      },
      "source": [
        "The reason we are renaming the file is due to a complication that you may experience when pulling updates into your fork. If a file was updated after your last pull and modifications, your modifications will likely cause a merge conflict, which can be a headache to resolve. Creating a new file side-steps this problem.\n",
        "\n",
        "Now that you have a new file in your fork, add the file into local repository:"
      ]
    },
    {
      "cell_type": "code",
      "metadata": {
        "id": "2o9JmQ1QdBGs",
        "colab_type": "code",
        "colab": {}
      },
      "source": [
        "!git add /content/drive/My\\ Drive/Data-1401-Repo/DATA1401-Spring-2020/Labs/Lab-2/Lab-2-Solution.ipynb"
      ],
      "execution_count": 0,
      "outputs": []
    },
    {
      "cell_type": "markdown",
      "metadata": {
        "id": "HX4xOctmdBG0",
        "colab_type": "text"
      },
      "source": [
        "You only need to add a file once. Next, commit this file to your local copy of the repository. If this is the first time you are doing a commit, you will have to tell git your github username."
      ]
    },
    {
      "cell_type": "code",
      "metadata": {
        "id": "Tn9jf5VXdBG1",
        "colab_type": "code",
        "outputId": "2c97798e-47da-4ecd-d254-08dd79c227e7",
        "colab": {
          "base_uri": "https://localhost:8080/",
          "height": 34
        }
      },
      "source": [
        "# Uncomment and modify lines below if needed\n",
        "#!git config --global user.email \"you@example.com\"\n",
        "#!git config --global user.name \"Your Name\"\n",
        "!git commit -a -m \"My Lab 2 Solutions\""
      ],
      "execution_count": 0,
      "outputs": [
        {
          "output_type": "stream",
          "text": [
            "fatal: not a git repository (or any of the parent directories): .git\n"
          ],
          "name": "stdout"
        }
      ]
    },
    {
      "cell_type": "markdown",
      "metadata": {
        "id": "JfKXTlv1dBG5",
        "colab_type": "text"
      },
      "source": [
        "You are required to provide a text message when commiting files, and the `-m` option is the nicest way to do it. If you do not supply a message, you will find yourself in a text editor (most likely vi) which is difficult to use and forced to enter a message.\n",
        "\n",
        "You will need to commit your changes every time you wish to submit any changes. So if you keep working or come back to a lab, make sure you commit your changes.\n",
        "\n",
        "Now that you committed your changes, you will need to push these changes to the fork of the package in your github account:"
      ]
    },
    {
      "cell_type": "code",
      "metadata": {
        "id": "L7UZOLYAdBG6",
        "colab_type": "code",
        "colab": {}
      },
      "source": [
        "!git push"
      ],
      "execution_count": 0,
      "outputs": []
    },
    {
      "cell_type": "markdown",
      "metadata": {
        "id": "3dI_D9PAdBG-",
        "colab_type": "text"
      },
      "source": [
        "You will likely need to supply you git username and password.\n",
        "\n",
        "Your lab is now available for grading. Remember that unless you commit and push your work, it will not be seen.\n",
        "\n",
        "From now on, use this procedure to submit your solutions to labs, including the remainder of this lab. \n",
        "\n",
        "You can work in your Solutions directory if you like. But note that it may be a good practice to use the \"File\" menu to duplicate and remain labs when you first start. Besides letting you avoid having to do the copy later, you will have a copy of the original notebook, in case you delete something and can pull updates, in case of bug fixes."
      ]
    },
    {
      "cell_type": "markdown",
      "metadata": {
        "id": "q-gMWiE4dBG_",
        "colab_type": "text"
      },
      "source": [
        "## Python Programming\n",
        "\n",
        "In the remainder of this lab you will practice python by solving some simple exercises. \n",
        "\n",
        "*Exercise 1:* Write 2 functions `even(x)` and `odd(x)` that take an integer and returns True if the input is even or odd, otherwise returns False. Use cell below for your solution. Use the subsequent cell to demonstrate that your solution works. Feel free to add additional cell as needed using the \"+\" button on the button bar above. "
      ]
    },
    {
      "cell_type": "code",
      "metadata": {
        "id": "jwN5jff1dBG_",
        "colab_type": "code",
        "colab": {}
      },
      "source": [
        "# Write you solution here\n",
        "\n",
        "def even(x):\n",
        "  return x%2==0\n",
        "def odd(x):\n",
        "    return x%2!=0"
      ],
      "execution_count": 0,
      "outputs": []
    },
    {
      "cell_type": "code",
      "metadata": {
        "id": "xNJAcodhdBHB",
        "colab_type": "code",
        "outputId": "9b2dfeed-1752-4ada-f1e9-58bc31ad042f",
        "colab": {
          "base_uri": "https://localhost:8080/",
          "height": 85
        }
      },
      "source": [
        "# Test your solution here\n",
        "print(\"Testing even 2:\",even(2))\n",
        "print(\"Testing even 3:\",even(3))\n",
        "print(\"Testing odd 5:\",odd(5))\n",
        "print(\"Testing odd 2:\",odd(2))"
      ],
      "execution_count": 0,
      "outputs": [
        {
          "output_type": "stream",
          "text": [
            "Testing even 2: True\n",
            "Testing even 3: False\n",
            "Testing odd 5: True\n",
            "Testing odd 2: False\n"
          ],
          "name": "stdout"
        }
      ]
    },
    {
      "cell_type": "markdown",
      "metadata": {
        "id": "KL_pyzG8dBHD",
        "colab_type": "text"
      },
      "source": [
        "*Exercise 2:* Write a function that takes a list of numbers as input and returns a list of the subset of elements that are less that 10. Test your solution."
      ]
    },
    {
      "cell_type": "code",
      "metadata": {
        "id": "g8nt0wnldBHE",
        "colab_type": "code",
        "colab": {}
      },
      "source": [
        "# Write you solution here\n",
        "def less_than_ten(lst):\n",
        "  out_list=list()\n",
        "  for element in lst:\n",
        "    if element < 10:\n",
        "      out_list.append(element)\n",
        "  return out_list"
      ],
      "execution_count": 0,
      "outputs": []
    },
    {
      "cell_type": "code",
      "metadata": {
        "id": "__HTUWA1dBHH",
        "colab_type": "code",
        "outputId": "faf265a2-f8ae-45a6-e56c-1c83d44daa96",
        "colab": {
          "base_uri": "https://localhost:8080/",
          "height": 34
        }
      },
      "source": [
        "# Test your solution here\n",
        "\n",
        "less_than_ten([7,78,64,4567,1,3,67,9,6])"
      ],
      "execution_count": 0,
      "outputs": [
        {
          "output_type": "execute_result",
          "data": {
            "text/plain": [
              "[7, 1, 3, 9, 6]"
            ]
          },
          "metadata": {
            "tags": []
          },
          "execution_count": 31
        }
      ]
    },
    {
      "cell_type": "markdown",
      "metadata": {
        "id": "T0cx91JudBHK",
        "colab_type": "text"
      },
      "source": [
        "*Exercise 3:* Write a function that takes a number `x_max` as input and returns a function that performs the same task as exercise 2, but for `x_max` instead of 10."
      ]
    },
    {
      "cell_type": "code",
      "metadata": {
        "id": "PqummMcmdBHK",
        "colab_type": "code",
        "colab": {}
      },
      "source": [
        "# Write you solution here\n",
        "\n",
        "def x_max(lst, x_max):\n",
        "  out_list=list()\n",
        "  for element in lst:\n",
        "    if element < x_max:\n",
        "      out_list.append(element)\n",
        "  return out_list"
      ],
      "execution_count": 0,
      "outputs": []
    },
    {
      "cell_type": "code",
      "metadata": {
        "id": "evRYemjXdBHN",
        "colab_type": "code",
        "outputId": "822b57b0-cab2-4f2f-a7ce-b59e9b0cdb9b",
        "colab": {
          "base_uri": "https://localhost:8080/",
          "height": 34
        }
      },
      "source": [
        "# Test your solution here\n",
        "\n",
        "x_max([5,57,84,123,6847,4332,0,97,2,23],245)"
      ],
      "execution_count": 0,
      "outputs": [
        {
          "output_type": "execute_result",
          "data": {
            "text/plain": [
              "[5, 57, 84, 123, 0, 97, 2, 23]"
            ]
          },
          "metadata": {
            "tags": []
          },
          "execution_count": 17
        }
      ]
    },
    {
      "cell_type": "markdown",
      "metadata": {
        "id": "h0I8M27LdBHP",
        "colab_type": "text"
      },
      "source": [
        "*Exercise 4:* Write a function that takes an interger as input and returns a list of all divisors of that number."
      ]
    },
    {
      "cell_type": "code",
      "metadata": {
        "id": "k6GUpDyrdBHP",
        "colab_type": "code",
        "outputId": "216aa42d-1575-492f-b698-ce6883878bc8",
        "colab": {
          "base_uri": "https://localhost:8080/",
          "height": 153
        }
      },
      "source": [
        "# Write you solution here\n",
        "\n",
        "n=int(input(\"Enter an integer:\"))\n",
        "print(\"The divisors of the number are:\")\n",
        "for i in range(1,n+1):\n",
        "    if(n%i==0):\n",
        "        print(i)"
      ],
      "execution_count": 0,
      "outputs": [
        {
          "output_type": "stream",
          "text": [
            "Enter an integer:76\n",
            "The divisors of the number are:\n",
            "1\n",
            "2\n",
            "4\n",
            "19\n",
            "38\n",
            "76\n"
          ],
          "name": "stdout"
        }
      ]
    },
    {
      "cell_type": "code",
      "metadata": {
        "id": "YDvRmft-dBHR",
        "colab_type": "code",
        "outputId": "8ce36868-d1dd-4e95-fe5e-916226b6a1eb",
        "colab": {
          "base_uri": "https://localhost:8080/",
          "height": 34
        }
      },
      "source": [
        "# Test your solution here\n",
        "\n",
        "N/A"
      ],
      "execution_count": 0,
      "outputs": [
        {
          "output_type": "stream",
          "text": [
            "25\n"
          ],
          "name": "stdout"
        }
      ]
    },
    {
      "cell_type": "markdown",
      "metadata": {
        "id": "IOWnLMvxdBHT",
        "colab_type": "text"
      },
      "source": [
        "*Exercise 5:* Write a function that takes 2 lists as input and returns a list that contains only the elements that are common between the lists (without duplicates). Make sure your program works on two lists of different sizes."
      ]
    },
    {
      "cell_type": "code",
      "metadata": {
        "id": "tR31bnTDdBHT",
        "colab_type": "code",
        "colab": {}
      },
      "source": [
        "# Write you solution here\n",
        "\n",
        "def intersection(lst1, lst2): \n",
        "    lstf = [value for value in lst1 if value in lst2] \n",
        "    return lstf"
      ],
      "execution_count": 0,
      "outputs": []
    },
    {
      "cell_type": "code",
      "metadata": {
        "id": "IJDf6ebYdBHV",
        "colab_type": "code",
        "outputId": "ba568741-b2eb-4295-fb7e-2446e39032c5",
        "colab": {
          "base_uri": "https://localhost:8080/",
          "height": 34
        }
      },
      "source": [
        "# Test your solution here\n",
        "\n",
        "lst1 = [5,2,7,12,54,23,14,9]\n",
        "lst2 = [19,14,90,71,5,23,14]\n",
        "print(intersection(lst1,lst2))"
      ],
      "execution_count": 0,
      "outputs": [
        {
          "output_type": "stream",
          "text": [
            "[5, 23, 14]\n"
          ],
          "name": "stdout"
        }
      ]
    },
    {
      "cell_type": "markdown",
      "metadata": {
        "id": "3vA7M9pldBHX",
        "colab_type": "text"
      },
      "source": [
        "*Exercise 6:* Write a function that reads takes a string and returns `True` if the string is a palindrome. (A palindrome is a string that reads the same forwards and backwards.)"
      ]
    },
    {
      "cell_type": "code",
      "metadata": {
        "id": "ncyMDzp6dBHX",
        "colab_type": "code",
        "colab": {}
      },
      "source": [
        "# Write you solution here\n",
        "\n",
        "def reverse(s): \n",
        "    return s[::-1] \n",
        "def isPalindrome(s): \n",
        "    rev = reverse(s) \n",
        "    if (s == rev): \n",
        "        return True\n",
        "    return False"
      ],
      "execution_count": 0,
      "outputs": []
    },
    {
      "cell_type": "code",
      "metadata": {
        "id": "v5cmVQ6MdBHZ",
        "colab_type": "code",
        "outputId": "48226535-2138-454b-8fbb-92ae5ad7df59",
        "colab": {
          "base_uri": "https://localhost:8080/",
          "height": 34
        }
      },
      "source": [
        "# Test your solution here\n",
        "\n",
        "s = \"1001\"\n",
        "ans = isPalindrome(s)\n",
        "if ans == 1:\n",
        "  print(\"Correct\")\n",
        "else:\n",
        "  print(\"false\")"
      ],
      "execution_count": 0,
      "outputs": [
        {
          "output_type": "stream",
          "text": [
            "Correct\n"
          ],
          "name": "stdout"
        }
      ]
    },
    {
      "cell_type": "markdown",
      "metadata": {
        "id": "fT35xwandBHc",
        "colab_type": "text"
      },
      "source": [
        "*Exercise 7:* Write a Rock-Paper-Scissors game function, that takes 2 strings, the inputs of player 1 and player 2, and output 1 or 2 corresponding to which player wins, or 0 if draw.\n",
        "\n",
        "Implement a Rock-Paper-Scissors game by soliciting input from 2 players, testing with this function, and repeating if there is a draw.\n",
        "\n",
        "Remember the rules:\n",
        "\n",
        "* Rock beats scissors\n",
        "* Scissors beats paper\n",
        "* Paper beats rock"
      ]
    },
    {
      "cell_type": "code",
      "metadata": {
        "id": "U1_HxxaWdBHd",
        "colab_type": "code",
        "outputId": "d10a25b1-a82e-444a-acfc-a51a8c923bfb",
        "colab": {
          "base_uri": "https://localhost:8080/",
          "height": 102
        }
      },
      "source": [
        "# Write you solution here\n",
        "\n",
        "import sys\n",
        "\n",
        "user1 = input(\"What's your name?\")\n",
        "user2 = input(\"And your name?\")\n",
        "user1_answer = input(\"%s, do yo want to choose rock, paper or scissors?\" % user1)\n",
        "user2_answer = input(\"%s, do you want to choose rock, paper or scissors?\" % user2)\n",
        "\n",
        "def compare(u1, u2):\n",
        "    if u1 == u2:\n",
        "        return(\"It's a tie!\")\n",
        "    elif u1 == 'rock':\n",
        "        if u2 == 'scissors':\n",
        "            return(\"Rock wins!\")\n",
        "        else:\n",
        "            return(\"Paper wins!\")\n",
        "    elif u1 == 'scissors':\n",
        "        if u2 == 'paper':\n",
        "            return(\"Scissors win!\")\n",
        "        else:\n",
        "            return(\"Rock wins!\")\n",
        "    elif u1 == 'paper':\n",
        "        if u2 == 'rock':\n",
        "            return(\"Paper wins!\")\n",
        "        else:\n",
        "            return(\"Scissors win!\")\n",
        "    else:\n",
        "        return(\"Invalid input! You have not entered rock, paper or scissors, try again.\")\n",
        "        sys.exit()\n",
        "\n",
        "print(compare(user1_answer, user2_answer))"
      ],
      "execution_count": 0,
      "outputs": [
        {
          "output_type": "stream",
          "text": [
            "What's your name?p1\n",
            "And your name?p2\n",
            "p1, do yo want to choose rock, paper or scissors?rock\n",
            "p2, do you want to choose rock, paper or scissors?paper\n",
            "Paper wins!\n"
          ],
          "name": "stdout"
        }
      ]
    },
    {
      "cell_type": "markdown",
      "metadata": {
        "id": "dJQzXNKzdBHh",
        "colab_type": "text"
      },
      "source": [
        "*Exercise 8:* Write a function that takes a integer `n` as input and \n",
        "outputs a list of the first `n` Fibonnaci numbers.\n",
        "\n",
        "The Fibonnaci seqence is a sequence of numbers where the next number in the sequence is the sum of the previous two numbers in the sequence. The sequence looks like this: 1, 1, 2, 3, 5, 8, 13, …)"
      ]
    },
    {
      "cell_type": "code",
      "metadata": {
        "id": "G_4ooRXTdBHh",
        "colab_type": "code",
        "colab": {}
      },
      "source": [
        "# Write you solution here\n",
        "\n",
        "def printFibonacciNumbers(n): \n",
        "      \n",
        "    f1 = 0\n",
        "    f2 = 1\n",
        "    if (n < 1): \n",
        "        return\n",
        "    for x in range(0, n): \n",
        "        print(f2, end = \" \") \n",
        "        next = f1 + f2 \n",
        "        f1 = f2 \n",
        "        f2 = next"
      ],
      "execution_count": 0,
      "outputs": []
    },
    {
      "cell_type": "code",
      "metadata": {
        "id": "rzK5FskJdBHj",
        "colab_type": "code",
        "outputId": "5e71ec69-0896-4d7a-d118-5dbfa8e446b1",
        "colab": {
          "base_uri": "https://localhost:8080/",
          "height": 34
        }
      },
      "source": [
        "# Test your solution here\n",
        "\n",
        "printFibonacciNumbers(9)"
      ],
      "execution_count": 0,
      "outputs": [
        {
          "output_type": "stream",
          "text": [
            "1 1 2 3 5 8 13 21 34 "
          ],
          "name": "stdout"
        }
      ]
    },
    {
      "cell_type": "markdown",
      "metadata": {
        "id": "q6c_AskadBHl",
        "colab_type": "text"
      },
      "source": [
        "*Exercise 9:* Write a function that takes a string of consisting of several words and returns a string that reverses the order of the words.\n"
      ]
    },
    {
      "cell_type": "code",
      "metadata": {
        "id": "aJdXX6FHdBHl",
        "colab_type": "code",
        "colab": {}
      },
      "source": [
        "# Write you solution here\n",
        "\n",
        "def wordReverse(str): \n",
        "    i = len(str)-1\n",
        "    start = end = i+1\n",
        "    result = '' \n",
        "  \n",
        "    while i>=0: \n",
        "        if str[i] == ' ': \n",
        "            start = i+1\n",
        "            while start!= end: \n",
        "                result += str[start] \n",
        "                start+=1\n",
        "            result+=' '\n",
        "            end = i \n",
        "        i-=1\n",
        "    start = 0\n",
        "    while start!=end: \n",
        "        result+=str[start] \n",
        "        start+=1\n",
        "    return result "
      ],
      "execution_count": 0,
      "outputs": []
    },
    {
      "cell_type": "code",
      "metadata": {
        "id": "nQyhnLZ_dBHn",
        "colab_type": "code",
        "outputId": "8b4b7855-3084-4d2d-9a5e-01ea18839ffc",
        "colab": {
          "base_uri": "https://localhost:8080/",
          "height": 34
        }
      },
      "source": [
        "# Test your solution here\n",
        "\n",
        "str = 'hello world, my name is parker'\n",
        "print(wordReverse(str))"
      ],
      "execution_count": 0,
      "outputs": [
        {
          "output_type": "stream",
          "text": [
            "parker is name my world, hello\n"
          ],
          "name": "stdout"
        }
      ]
    },
    {
      "cell_type": "markdown",
      "metadata": {
        "id": "NFSmRaSydBHq",
        "colab_type": "text"
      },
      "source": [
        "*Exercise 10:* Write a guessing game program that will repeatedly guess a number that the users picks, with the user indicating higher or lower, until it correctly guesses the number."
      ]
    },
    {
      "cell_type": "code",
      "metadata": {
        "id": "Ie2E1JzCdBHr",
        "colab_type": "code",
        "outputId": "8377b3af-ce80-4c0a-81bc-a3ed1d02a42e",
        "colab": {
          "base_uri": "https://localhost:8080/",
          "height": 391
        }
      },
      "source": [
        "# Write you solution here\n",
        "\n",
        "# the number selection will reamin between 1 and 100\n",
        "\n",
        "from random import randint\n",
        "\n",
        "number = 0\n",
        "\n",
        "while number < 1 or number >100:\n",
        "    number = int(input(\"\\n\\nEnter a number: \"))\n",
        "    if number > 100:\n",
        "        print (\"Number must be lower than or equal to 100!\")\n",
        "    if number < 1:\n",
        "        print (\"Number must be greater than or equal to 1!\")\n",
        "\n",
        "guess = randint(1, 100)\n",
        "\n",
        "print (\"I'm gonna say...\", guess)\n",
        "\n",
        "while guess != number:\n",
        "    if guess > number:\n",
        "        guess -= 1\n",
        "        guess = randint(1, guess)\n",
        "    else:\n",
        "        guess += 1\n",
        "        guess = randint(guess, 100)\n",
        "    print (\"I'm gonna say...\", guess)\n",
        "# unfortunately, could not make the program loop \n",
        "print (\"I think the answer is\", guess, \"and it is right!\")"
      ],
      "execution_count": 0,
      "outputs": [
        {
          "output_type": "stream",
          "text": [
            "\n",
            "\n",
            "Enter a number: 87\n",
            "I'm gonna say... 92\n",
            "I'm gonna say... 23\n",
            "I'm gonna say... 97\n",
            "I'm gonna say... 37\n",
            "I'm gonna say... 99\n",
            "I'm gonna say... 20\n",
            "I'm gonna say... 69\n",
            "I'm gonna say... 94\n",
            "I'm gonna say... 39\n",
            "I'm gonna say... 68\n",
            "I'm gonna say... 83\n",
            "I'm gonna say... 96\n",
            "I'm gonna say... 49\n",
            "I'm gonna say... 74\n",
            "I'm gonna say... 99\n",
            "I'm gonna say... 55\n",
            "I'm gonna say... 99\n",
            "I'm gonna say... 87\n",
            "I think the answer is 87 and it is right!\n"
          ],
          "name": "stdout"
        }
      ]
    },
    {
      "cell_type": "code",
      "metadata": {
        "id": "6T8YdWSMdBHs",
        "colab_type": "code",
        "colab": {}
      },
      "source": [
        "# Test your solution here\n",
        "\n",
        "N/A"
      ],
      "execution_count": 0,
      "outputs": []
    }
  ]
}